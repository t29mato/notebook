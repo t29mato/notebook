{
 "cells": [
  {
   "cell_type": "code",
   "execution_count": null,
   "metadata": {},
   "outputs": [],
   "source": [
    "import requests\n",
    "from stravalib.client import Client\n",
    "\n",
    "def retrieve_strava_activities(client_id, client_secret, refresh_token):\n",
    "    # Strava APIへの認証\n",
    "    client = Client()\n",
    "    response = requests.post(\n",
    "        url='https://www.strava.com/oauth/token',\n",
    "        data={\n",
    "            'client_id': client_id,\n",
    "            'client_secret': client_secret,\n",
    "            'grant_type': 'refresh_token',\n",
    "            'refresh_token': refresh_token\n",
    "        }\n",
    "    )\n",
    "    access_token = response.json()['access_token']\n",
    "    client.access_token = \"2a11f03bb47d4629d2363da17dcfa7f7b4f5f639\"\n",
    "\n",
    "    # アクティビティの取得\n",
    "    activities = client.get_activities()\n",
    "    return activities\n",
    "\n",
    "# 以下の値をあなたのAPIキー情報に置き換えてください\n",
    "CLIENT_ID = '96065'\n",
    "\n",
    "CLIENT_SECRET = 'd76d4fe263c4503f0e0180275cb0dffa6b4e46b1'\n",
    "REFRESH_TOKEN = '1087bd02d2eb4a65f6e4c102db0e647cd3e51c6e'\n",
    "\n",
    "activities = retrieve_strava_activities(CLIENT_ID, CLIENT_SECRET, REFRESH_TOKEN)\n",
    "for activity in activities:\n",
    "    print(f\"Activity: {activity.name}, Date: {activity.start_date}, Distance: {activity.distance}\")\n"
   ]
  },
  {
   "cell_type": "code",
   "execution_count": null,
   "metadata": {},
   "outputs": [],
   "source": [
    "!printenv | grep nims"
   ]
  }
 ],
 "metadata": {
  "kernelspec": {
   "display_name": ".venv",
   "language": "python",
   "name": "python3"
  },
  "language_info": {
   "codemirror_mode": {
    "name": "ipython",
    "version": 3
   },
   "file_extension": ".py",
   "mimetype": "text/x-python",
   "name": "python",
   "nbconvert_exporter": "python",
   "pygments_lexer": "ipython3",
   "version": "3.12.1"
  }
 },
 "nbformat": 4,
 "nbformat_minor": 2
}
